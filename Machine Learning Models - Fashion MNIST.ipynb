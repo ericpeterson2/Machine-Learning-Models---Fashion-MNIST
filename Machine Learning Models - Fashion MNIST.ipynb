{
 "cells": [
  {
   "cell_type": "markdown",
   "id": "8a491c70",
   "metadata": {},
   "source": [
    "# Dataset"
   ]
  },
  {
   "cell_type": "markdown",
   "id": "fea25631",
   "metadata": {},
   "source": [
    "The purpose of this project is to build the best suited classifier model to classify 10\n",
    "categories of grayscale fashion images: top, trouser, pullover, dress, coat, sandal, shirt,\n",
    "sneaker, bag and boot. The dataset used ‘train.csv’ is a subset of the original\n",
    "Fashion-MNIST dataset, it contains 30,000 examples of 28x28 sized images. A ‘test.csv’ file\n",
    "with 5,000 images without labels was also used to assess model accuracy against the unit cohort"
   ]
  },
  {
   "cell_type": "code",
   "execution_count": 11,
   "id": "9653b697",
   "metadata": {},
   "outputs": [],
   "source": [
    "#Importing Libraries\n",
    "\n",
    "import pandas as pd\n",
    "import os\n",
    "pd.set_option('display.max_columns', 10)\n",
    "from sklearn.linear_model import LogisticRegression\n",
    "from sklearn.metrics import confusion_matrix, accuracy_score\n",
    "from sklearn.model_selection import GridSearchCV\n",
    "from sklearn. ensemble import RandomForestClassifier, BaggingRegressor, AdaBoostRegressor\n",
    "import numpy as np\n",
    "import seaborn as sns\n",
    "import matplotlib.pyplot as plt\n",
    "from sklearn import metrics\n",
    "from sklearn.multiclass import OneVsRestClassifier"
   ]
  },
  {
   "cell_type": "code",
   "execution_count": 2,
   "id": "96fe9675",
   "metadata": {},
   "outputs": [],
   "source": [
    "#uploading the train data set with label included\n",
    "data_train_df = pd.read_csv('train.csv')\n"
   ]
  },
  {
   "cell_type": "code",
   "execution_count": 3,
   "id": "dcc92552",
   "metadata": {},
   "outputs": [
    {
     "data": {
      "text/html": [
       "<div>\n",
       "<style scoped>\n",
       "    .dataframe tbody tr th:only-of-type {\n",
       "        vertical-align: middle;\n",
       "    }\n",
       "\n",
       "    .dataframe tbody tr th {\n",
       "        vertical-align: top;\n",
       "    }\n",
       "\n",
       "    .dataframe thead th {\n",
       "        text-align: right;\n",
       "    }\n",
       "</style>\n",
       "<table border=\"1\" class=\"dataframe\">\n",
       "  <thead>\n",
       "    <tr style=\"text-align: right;\">\n",
       "      <th></th>\n",
       "      <th>id</th>\n",
       "      <th>v1</th>\n",
       "      <th>v2</th>\n",
       "      <th>v3</th>\n",
       "      <th>v4</th>\n",
       "      <th>...</th>\n",
       "      <th>v781</th>\n",
       "      <th>v782</th>\n",
       "      <th>v783</th>\n",
       "      <th>v784</th>\n",
       "      <th>label</th>\n",
       "    </tr>\n",
       "  </thead>\n",
       "  <tbody>\n",
       "    <tr>\n",
       "      <th>count</th>\n",
       "      <td>30000.000000</td>\n",
       "      <td>30000.000000</td>\n",
       "      <td>30000.000000</td>\n",
       "      <td>30000.000000</td>\n",
       "      <td>30000.000000</td>\n",
       "      <td>...</td>\n",
       "      <td>30000.000000</td>\n",
       "      <td>30000.000000</td>\n",
       "      <td>30000.000000</td>\n",
       "      <td>30000.000000</td>\n",
       "      <td>30000.000000</td>\n",
       "    </tr>\n",
       "    <tr>\n",
       "      <th>mean</th>\n",
       "      <td>14999.500000</td>\n",
       "      <td>0.000933</td>\n",
       "      <td>0.005133</td>\n",
       "      <td>0.031233</td>\n",
       "      <td>0.078367</td>\n",
       "      <td>...</td>\n",
       "      <td>8.601267</td>\n",
       "      <td>2.735700</td>\n",
       "      <td>0.841333</td>\n",
       "      <td>0.065533</td>\n",
       "      <td>4.492500</td>\n",
       "    </tr>\n",
       "    <tr>\n",
       "      <th>std</th>\n",
       "      <td>8660.398374</td>\n",
       "      <td>0.092011</td>\n",
       "      <td>0.205366</td>\n",
       "      <td>0.964377</td>\n",
       "      <td>1.809475</td>\n",
       "      <td>...</td>\n",
       "      <td>29.541150</td>\n",
       "      <td>17.315959</td>\n",
       "      <td>9.257715</td>\n",
       "      <td>1.883726</td>\n",
       "      <td>2.868534</td>\n",
       "    </tr>\n",
       "    <tr>\n",
       "      <th>min</th>\n",
       "      <td>0.000000</td>\n",
       "      <td>0.000000</td>\n",
       "      <td>0.000000</td>\n",
       "      <td>0.000000</td>\n",
       "      <td>0.000000</td>\n",
       "      <td>...</td>\n",
       "      <td>0.000000</td>\n",
       "      <td>0.000000</td>\n",
       "      <td>0.000000</td>\n",
       "      <td>0.000000</td>\n",
       "      <td>0.000000</td>\n",
       "    </tr>\n",
       "    <tr>\n",
       "      <th>25%</th>\n",
       "      <td>7499.750000</td>\n",
       "      <td>0.000000</td>\n",
       "      <td>0.000000</td>\n",
       "      <td>0.000000</td>\n",
       "      <td>0.000000</td>\n",
       "      <td>...</td>\n",
       "      <td>0.000000</td>\n",
       "      <td>0.000000</td>\n",
       "      <td>0.000000</td>\n",
       "      <td>0.000000</td>\n",
       "      <td>2.000000</td>\n",
       "    </tr>\n",
       "    <tr>\n",
       "      <th>50%</th>\n",
       "      <td>14999.500000</td>\n",
       "      <td>0.000000</td>\n",
       "      <td>0.000000</td>\n",
       "      <td>0.000000</td>\n",
       "      <td>0.000000</td>\n",
       "      <td>...</td>\n",
       "      <td>0.000000</td>\n",
       "      <td>0.000000</td>\n",
       "      <td>0.000000</td>\n",
       "      <td>0.000000</td>\n",
       "      <td>4.000000</td>\n",
       "    </tr>\n",
       "    <tr>\n",
       "      <th>75%</th>\n",
       "      <td>22499.250000</td>\n",
       "      <td>0.000000</td>\n",
       "      <td>0.000000</td>\n",
       "      <td>0.000000</td>\n",
       "      <td>0.000000</td>\n",
       "      <td>...</td>\n",
       "      <td>0.000000</td>\n",
       "      <td>0.000000</td>\n",
       "      <td>0.000000</td>\n",
       "      <td>0.000000</td>\n",
       "      <td>7.000000</td>\n",
       "    </tr>\n",
       "    <tr>\n",
       "      <th>max</th>\n",
       "      <td>29999.000000</td>\n",
       "      <td>14.000000</td>\n",
       "      <td>25.000000</td>\n",
       "      <td>119.000000</td>\n",
       "      <td>146.000000</td>\n",
       "      <td>...</td>\n",
       "      <td>250.000000</td>\n",
       "      <td>255.000000</td>\n",
       "      <td>255.000000</td>\n",
       "      <td>163.000000</td>\n",
       "      <td>9.000000</td>\n",
       "    </tr>\n",
       "  </tbody>\n",
       "</table>\n",
       "<p>8 rows × 786 columns</p>\n",
       "</div>"
      ],
      "text/plain": [
       "                 id            v1            v2            v3            v4  \\\n",
       "count  30000.000000  30000.000000  30000.000000  30000.000000  30000.000000   \n",
       "mean   14999.500000      0.000933      0.005133      0.031233      0.078367   \n",
       "std     8660.398374      0.092011      0.205366      0.964377      1.809475   \n",
       "min        0.000000      0.000000      0.000000      0.000000      0.000000   \n",
       "25%     7499.750000      0.000000      0.000000      0.000000      0.000000   \n",
       "50%    14999.500000      0.000000      0.000000      0.000000      0.000000   \n",
       "75%    22499.250000      0.000000      0.000000      0.000000      0.000000   \n",
       "max    29999.000000     14.000000     25.000000    119.000000    146.000000   \n",
       "\n",
       "       ...          v781          v782          v783          v784  \\\n",
       "count  ...  30000.000000  30000.000000  30000.000000  30000.000000   \n",
       "mean   ...      8.601267      2.735700      0.841333      0.065533   \n",
       "std    ...     29.541150     17.315959      9.257715      1.883726   \n",
       "min    ...      0.000000      0.000000      0.000000      0.000000   \n",
       "25%    ...      0.000000      0.000000      0.000000      0.000000   \n",
       "50%    ...      0.000000      0.000000      0.000000      0.000000   \n",
       "75%    ...      0.000000      0.000000      0.000000      0.000000   \n",
       "max    ...    250.000000    255.000000    255.000000    163.000000   \n",
       "\n",
       "              label  \n",
       "count  30000.000000  \n",
       "mean       4.492500  \n",
       "std        2.868534  \n",
       "min        0.000000  \n",
       "25%        2.000000  \n",
       "50%        4.000000  \n",
       "75%        7.000000  \n",
       "max        9.000000  \n",
       "\n",
       "[8 rows x 786 columns]"
      ]
     },
     "execution_count": 3,
     "metadata": {},
     "output_type": "execute_result"
    }
   ],
   "source": [
    "# Describe training dataset\n",
    "data_train_df.describe()\n",
    "# standard deviation across features show quite a range which indicates scaling is required."
   ]
  },
  {
   "cell_type": "code",
   "execution_count": 4,
   "id": "bbcd03a2",
   "metadata": {},
   "outputs": [],
   "source": [
    "# PRE-PROCESSING\n",
    "\n",
    "# only selecting the input feature\n",
    "data_train_feature = data_train_df.loc[:, \"v1\":\"v784\"].to_numpy()\n",
    "\n",
    "#output label\n",
    "data_train_label = data_train_df.label.to_numpy()"
   ]
  },
  {
   "cell_type": "code",
   "execution_count": 5,
   "id": "98661217",
   "metadata": {},
   "outputs": [
    {
     "data": {
      "image/png": "[encoded data removed]",
      "text/plain": [
       "<Figure size 432x288 with 1 Axes>"
      ]
     },
     "metadata": {
      "needs_background": "light"
     },
     "output_type": "display_data"
    }
   ],
   "source": [
    "import matplotlib.pyplot as plt\n",
    "data_train_feature = data_train_feature.reshape((data_train_feature.shape[0], \n",
    "28, 28))\n",
    "plt.imshow(data_train_feature[0], cmap=plt.get_cmap('gray'))\n",
    "plt.title(\"class \" + str(data_train_label[0]) + \": Pullover\" )\n",
    "plt.show()"
   ]
  },
  {
   "cell_type": "code",
   "execution_count": 6,
   "id": "6aa6045c",
   "metadata": {},
   "outputs": [],
   "source": [
    "# Test input without labels\n",
    "\n",
    "data_test_df = pd.read_csv('test_input.csv')\n",
    "data_test_df_ = data_test_df.drop(\"id\", axis = 1)"
   ]
  },
  {
   "cell_type": "markdown",
   "id": "4a8a49ae",
   "metadata": {},
   "source": [
    "## 1. PRE-PROCESSING"
   ]
  },
  {
   "cell_type": "code",
   "execution_count": 7,
   "id": "adda2b5c",
   "metadata": {},
   "outputs": [
    {
     "name": "stdout",
     "output_type": "stream",
     "text": [
      "X shape: (30000, 784)\n"
     ]
    }
   ],
   "source": [
    "#Reshaping the data\n",
    "\n",
    "data_train_feature_X = data_train_feature.reshape((data_train_feature.shape[0],\n",
    "                                                   data_train_feature.shape[1]*data_train_feature.shape[2]))\n",
    "\n",
    "print(\"X shape:\",data_train_feature_X.shape)"
   ]
  },
  {
   "cell_type": "code",
   "execution_count": 8,
   "id": "013c75ee",
   "metadata": {},
   "outputs": [],
   "source": [
    "# Train and test split\n",
    "\n",
    "from sklearn.model_selection import train_test_split\n",
    "\n",
    "X_train, X_test, y_train, y_test = train_test_split(data_train_feature_X, data_train_label, \n",
    "                                                    test_size=0.25, random_state=0)"
   ]
  },
  {
   "cell_type": "markdown",
   "id": "e3a580e5",
   "metadata": {},
   "source": [
    "Prior to training our models against our dataset, the data must be pre-processed. By\n",
    "observing the standard deviation across the features, the vast range of figures meant that\n",
    "the data needed to be scaled. This was done by using the MinMaxScaler function from the\n",
    "SkLearn Preprocessing library. The input features were thereby normalised to ensure a\n",
    "similar data distribution and the reduction of values will also aid in a faster speed during\n",
    "model training."
   ]
  },
  {
   "cell_type": "code",
   "execution_count": 9,
   "id": "e808b73f",
   "metadata": {},
   "outputs": [
    {
     "name": "stderr",
     "output_type": "stream",
     "text": [
      "C:\\Users\\ericp\\anaconda3\\lib\\site-packages\\sklearn\\base.py:443: UserWarning: X has feature names, but MinMaxScaler was fitted without feature names\n",
      "  warnings.warn(\n"
     ]
    }
   ],
   "source": [
    "#Normalizing the data\n",
    "\n",
    "from sklearn.preprocessing import MinMaxScaler\n",
    "scalling = MinMaxScaler()\n",
    "scalling.fit_transform(X_train)\n",
    "X_train_s = scalling.transform(X_train)\n",
    "X_test_s = scalling.transform(X_test)\n",
    "X_test_output = scalling.transform(data_test_df_)"
   ]
  },
  {
   "cell_type": "markdown",
   "id": "1a33ee78",
   "metadata": {},
   "source": [
    "After normalisation, PCA was used to compress the images by reducing the\n",
    "large number of features and finding a lower dimensional representation which will improve\n",
    "the speed of the process as it converges faster. To preserve 95% data variance, the number of features were reduced by ~76% from 784 to\n",
    "186"
   ]
  },
  {
   "cell_type": "code",
   "execution_count": 10,
   "id": "cee37eb5",
   "metadata": {},
   "outputs": [],
   "source": [
    "#Applying PCAA on the normalised data\n",
    "\n",
    "from sklearn.decomposition import PCA\n",
    "\n",
    "pca = PCA(n_components = 0.95)\n",
    "pca.fit_transform(X_train_s)\n",
    "X_train_pca_s = pca.transform(X_train_s)\n",
    "X_test_pca_s = pca.transform(X_test_s)\n",
    "X_test_output_pca = pca.transform(X_test_output)"
   ]
  },
  {
   "cell_type": "markdown",
   "id": "723020c2",
   "metadata": {},
   "source": [
    "# 2. Model Selection"
   ]
  },
  {
   "cell_type": "markdown",
   "id": "f3060cda",
   "metadata": {},
   "source": [
    "###  SVM"
   ]
  },
  {
   "cell_type": "markdown",
   "id": "d536c091",
   "metadata": {},
   "source": [
    "Support Vector Machine (SVM) is a supervised machine learning algorithm that is used for\n",
    "classification or regression tasks. SVM finds a hyperplane that has the maximum margin in a\n",
    "186-dimensional space in this instance to classify the new data points."
   ]
  },
  {
   "cell_type": "code",
   "execution_count": 10,
   "id": "8751ae10",
   "metadata": {},
   "outputs": [
    {
     "name": "stdout",
     "output_type": "stream",
     "text": [
      "SVM accuracy: 0.856\n"
     ]
    }
   ],
   "source": [
    "#Classifying with SVM\n",
    "from sklearn.svm import SVC\n",
    "\n",
    "svm = SVC(kernel=\"rbf\", gamma=\"auto\")\n",
    "svm.fit(X_train_pca_s, y_train)\n",
    "y_predicting = svm.predict(X_test_pca_s)\n",
    "print(\"SVM accuracy: {:.3f}\".format(accuracy_score(y_test, y_predicting)))"
   ]
  },
  {
   "cell_type": "markdown",
   "id": "111b47e0",
   "metadata": {},
   "source": [
    "The SVM model was initially set with the Radial Basis Function (RBF) kernel and the gamma parameter set on “auto”. The accuracy of the initial prediction\n",
    "produced a result of 86%. To improve the accuracy of the model, the C value, gamma and\n",
    "kernel selection could be tuned. For this reason, the following selections were inputted for\n",
    "the grid search to find the best estimators for the model. The grid search specified the best parameters to be: C = 10, gamma = 0.01 and kernel = rbf,\n",
    "which produced an accuracy score of 89%."
   ]
  },
  {
   "cell_type": "code",
   "execution_count": 12,
   "id": "834ec928",
   "metadata": {},
   "outputs": [
    {
     "name": "stdout",
     "output_type": "stream",
     "text": [
      "Fitting 5 folds for each of 60 candidates, totalling 300 fits\n",
      "Accuracy: 0.89\n",
      "Best parameters specification: {'C': 10, 'gamma': 0.01, 'kernel': 'rbf'}\n",
      "SVC(C=10, gamma=0.01)\n"
     ]
    }
   ],
   "source": [
    "#HYPERPARAMETER TUNING\n",
    "\n",
    "#Grid search for SVM\n",
    "param_grid = {'C': [0.001,0.1,1, 10, 100], 'gamma': [1,0.1,0.01,0.001],'kernel': \n",
    "              ['rbf', 'poly', 'sigmoid']}\n",
    "\n",
    "grid_searching = GridSearchCV(SVC(),param_grid, refit=True, n_jobs=-1, verbose=2)\n",
    "grid_searching.fit(X_train_pca_s,y_train)\n",
    "\n",
    "svm_hyper_score = grid_searching.score(X_test_pca_s, y_test)\n",
    "print(\"Accuracy: {:.2f}\".format(grid_searching.score(X_test_pca_s, y_test)))\n",
    "print(\"Best parameters specification: {}\".format(grid_searching.best_params_))\n",
    "print(grid_searching.best_estimator_)\n"
   ]
  },
  {
   "cell_type": "code",
   "execution_count": 71,
   "id": "3686b32b",
   "metadata": {},
   "outputs": [
    {
     "name": "stdout",
     "output_type": "stream",
     "text": [
      "Results:\n",
      "              precision    recall  f1-score   support\n",
      "\n",
      "           0       0.81      0.86      0.84       735\n",
      "           1       0.99      0.97      0.98       748\n",
      "           2       0.80      0.80      0.80       760\n",
      "           3       0.89      0.90      0.90       770\n",
      "           4       0.80      0.85      0.82       755\n",
      "           5       0.96      0.95      0.95       758\n",
      "           6       0.75      0.67      0.71       761\n",
      "           7       0.93      0.96      0.94       781\n",
      "           8       0.97      0.97      0.97       742\n",
      "           9       0.96      0.94      0.95       690\n",
      "\n",
      "    accuracy                           0.89      7500\n",
      "   macro avg       0.89      0.89      0.89      7500\n",
      "weighted avg       0.89      0.89      0.89      7500\n",
      "\n"
     ]
    }
   ],
   "source": [
    "# RESULTS\n",
    "#Checking classification results for SVM\n",
    "\n",
    "SVM_predict = grid_searching.predict(X_test_pca_s)\n",
    "print(\"Results:\\n{}\".format(metrics.classification_report(y_test, SVM_predict)))"
   ]
  },
  {
   "cell_type": "code",
   "execution_count": 51,
   "id": "44f248dc",
   "metadata": {},
   "outputs": [
    {
     "data": {
      "image/png": "[encoded data removed]",
      "text/plain": [
       "<Figure size 576x576 with 1 Axes>"
      ]
     },
     "metadata": {
      "needs_background": "light"
     },
     "output_type": "display_data"
    }
   ],
   "source": [
    "#Visuallizing the accuracy of SVM tuned model\n",
    "SVM_predict = grid_searching.predict(X_test_pca_s)\n",
    "\n",
    "visualisation = pd.crosstab(y_test, SVM_predict, \n",
    "                               rownames=['Real labels'], colnames=['Predicted labels'])\n",
    "plot = plt.figure(figsize=(8,8));\n",
    "plot = sns.heatmap(visualisation, annot=True, fmt=\"d\", cbar=False)"
   ]
  },
  {
   "cell_type": "code",
   "execution_count": 58,
   "id": "0ba809c8",
   "metadata": {},
   "outputs": [
    {
     "name": "stdout",
     "output_type": "stream",
     "text": [
      "Average running time: 54677.59\n"
     ]
    }
   ],
   "source": [
    "#Calculating average time for SVM gridsearch\n",
    "\n",
    "mean_fit_time = grid_searching.cv_results_['mean_fit_time']\n",
    "mean_score_time= grid_searching.cv_results_['mean_score_time']\n",
    "n_splits  = grid_searching.n_splits_ \n",
    "n_iter = pd.DataFrame(grid_searching.cv_results_).shape[0] \n",
    "svm_average_time = np.mean(mean_fit_time + mean_score_time) * n_splits * n_iter\n",
    "\n",
    "print(\"Average running time: {:.2f}\".format(svm_average_time))"
   ]
  },
  {
   "cell_type": "markdown",
   "id": "b38494e0",
   "metadata": {},
   "source": [
    "### Logistic Regression"
   ]
  },
  {
   "cell_type": "markdown",
   "id": "516a1084",
   "metadata": {},
   "source": [
    "While running the model, the number of interactions had to be increased to 2000 as the\n",
    "solver was failing to converge. After running and fitting the model in the training set, it\n",
    "presented a relatively high accuracy of 84% compared to other models"
   ]
  },
  {
   "cell_type": "code",
   "execution_count": 23,
   "id": "72a8fc1f",
   "metadata": {},
   "outputs": [
    {
     "name": "stdout",
     "output_type": "stream",
     "text": [
      "Logistic Regression accuracy: 0.844\n"
     ]
    }
   ],
   "source": [
    "#logistic regression model\n",
    "\n",
    "log_regression = LogisticRegression(max_iter = 2000)\n",
    "log_regression.fit(X_train_pca_s, y_train)\n",
    "log_y_pred = log_regression.predict(X_test_pca_s)\n",
    "print(\"Logistic accuracy: {:.3f}\".format(accuracy_score(y_test, log_y_pred)))\n",
    "#print(\"Accuracy on test:\", log_regression.score(X_test_pca_s, y_test)*100)"
   ]
  },
  {
   "cell_type": "markdown",
   "id": "a6db624b",
   "metadata": {},
   "source": [
    "Grid search was\n",
    "used to improve generalisation performance and identify the best hyperparameters for the\n",
    "model as it goes through all possible combinations to find the best accuracy. Therefore, a set\n",
    "of parameters were defined such as penalty(L1 and L2) and C values with numpy log space\n",
    "to return numbers spaced evenly on a log scale. After running the gridsearch for logistic\n",
    "regression, the accuracy significantly increased from 84% to 85% with the best parameters\n",
    "defined as C = 1.0 and penalty = L2"
   ]
  },
  {
   "cell_type": "code",
   "execution_count": 25,
   "id": "14d37c00",
   "metadata": {},
   "outputs": [
    {
     "name": "stdout",
     "output_type": "stream",
     "text": [
      "Fitting 10 folds for each of 14 candidates, totalling 140 fits\n"
     ]
    },
    {
     "name": "stderr",
     "output_type": "stream",
     "text": [
      "C:\\Users\\ericp\\anaconda3\\lib\\site-packages\\sklearn\\model_selection\\_validation.py:372: FitFailedWarning: \n",
      "70 fits failed out of a total of 140.\n",
      "The score on these train-test partitions for these parameters will be set to nan.\n",
      "If these failures are not expected, you can try to debug them by setting error_score='raise'.\n",
      "\n",
      "Below are more details about the failures:\n",
      "--------------------------------------------------------------------------------\n",
      "70 fits failed with the following error:\n",
      "Traceback (most recent call last):\n",
      "  File \"C:\\Users\\ericp\\anaconda3\\lib\\site-packages\\sklearn\\model_selection\\_validation.py\", line 680, in _fit_and_score\n",
      "    estimator.fit(X_train, y_train, **fit_params)\n",
      "  File \"C:\\Users\\ericp\\anaconda3\\lib\\site-packages\\sklearn\\linear_model\\_logistic.py\", line 1461, in fit\n",
      "    solver = _check_solver(self.solver, self.penalty, self.dual)\n",
      "  File \"C:\\Users\\ericp\\anaconda3\\lib\\site-packages\\sklearn\\linear_model\\_logistic.py\", line 447, in _check_solver\n",
      "    raise ValueError(\n",
      "ValueError: Solver lbfgs supports only 'l2' or 'none' penalties, got l1 penalty.\n",
      "\n",
      "  warnings.warn(some_fits_failed_message, FitFailedWarning)\n",
      "C:\\Users\\ericp\\anaconda3\\lib\\site-packages\\sklearn\\model_selection\\_search.py:969: UserWarning: One or more of the test scores are non-finite: [       nan 0.84982222        nan 0.84977778        nan 0.84808889\n",
      "        nan 0.84768889        nan 0.84675556        nan 0.84657778\n",
      "        nan 0.84631111]\n",
      "  warnings.warn(\n"
     ]
    },
    {
     "name": "stdout",
     "output_type": "stream",
     "text": [
      "Best parameters specification\n",
      "{'C': 1.0, 'penalty': 'l2'}\n",
      "0.8498222222222223\n",
      "Accuracy:0.84\n"
     ]
    }
   ],
   "source": [
    "#HYPERPARAMETER TUNING\n",
    "#Gridsearch for Logistic Regression\n",
    "\n",
    "param = {'penalty':['l1', 'l2'],\n",
    "                'C':np.logspace(0, 3, 7)\n",
    "                }\n",
    "classifier_log = LogisticRegression(max_iter = 2000, n_jobs=-1)\n",
    "\n",
    "gridSearchCV = GridSearchCV(classifier_log, param, cv=10, verbose=1)\n",
    "gridSearchCV.fit(X_train_pca_s, y_train)\n",
    "\n",
    "log_hyper_score = gridSearchCV.score(X_test_pca_s, y_test)\n",
    "print(\"Best parameters specification\")\n",
    "print(gridSearchCV.best_params_)\n",
    "print(gridSearchCV.best_score_)\n",
    "print(\"Accuracy:{:.2f}\".format(gridSearchCV.score(X_test_pca_s, y_test)))"
   ]
  },
  {
   "cell_type": "code",
   "execution_count": 70,
   "id": "4f20f08b",
   "metadata": {},
   "outputs": [
    {
     "name": "stdout",
     "output_type": "stream",
     "text": [
      "Results:\n",
      "              precision    recall  f1-score   support\n",
      "\n",
      "           0       0.78      0.80      0.79       735\n",
      "           1       0.97      0.96      0.96       748\n",
      "           2       0.75      0.73      0.74       760\n",
      "           3       0.86      0.88      0.87       770\n",
      "           4       0.74      0.79      0.77       755\n",
      "           5       0.92      0.90      0.91       758\n",
      "           6       0.63      0.57      0.60       761\n",
      "           7       0.90      0.93      0.92       781\n",
      "           8       0.94      0.94      0.94       742\n",
      "           9       0.94      0.93      0.94       690\n",
      "\n",
      "    accuracy                           0.84      7500\n",
      "   macro avg       0.84      0.84      0.84      7500\n",
      "weighted avg       0.84      0.84      0.84      7500\n",
      "\n"
     ]
    }
   ],
   "source": [
    "#RESULTS\n",
    "#Checking classification results for logistic regression\n",
    "\n",
    "log_predict = gridSearchCV.predict(X_test_pca_s)\n",
    "print(\"Results:\\n{}\".format(metrics.classification_report(y_test, log_predict)))"
   ]
  },
  {
   "cell_type": "code",
   "execution_count": 49,
   "id": "9d73531a",
   "metadata": {},
   "outputs": [
    {
     "data": {
      "image/png": "[encoded data removed]",
      "text/plain": [
       "<Figure size 576x576 with 1 Axes>"
      ]
     },
     "metadata": {
      "needs_background": "light"
     },
     "output_type": "display_data"
    }
   ],
   "source": [
    "#Visualisation of the accuracy of the logistic regression tuned model\n",
    "log_predict = gridSearchCV.predict(X_test_pca_s)\n",
    "\n",
    "visualisation = pd.crosstab(y_test, log_predict, \n",
    "                               rownames=['Real labels'], colnames=['Predicted labels'])\n",
    "p = plt.figure(figsize=(8,8));\n",
    "p = sns.heatmap(visualisation, annot=True, fmt=\"d\", cbar=False)"
   ]
  },
  {
   "cell_type": "code",
   "execution_count": 59,
   "id": "c5c1f0c8",
   "metadata": {},
   "outputs": [
    {
     "name": "stdout",
     "output_type": "stream",
     "text": [
      "Average running time: 3581.65\n"
     ]
    }
   ],
   "source": [
    "#Calculating average time for Logistic regression grid search\n",
    "\n",
    "mean_fit_time = gridSearchCV.cv_results_['mean_fit_time']\n",
    "mean_score_time= gridSearchCV.cv_results_['mean_score_time']\n",
    "n_splits  = gridSearchCV.n_splits_ \n",
    "n_iter = pd.DataFrame(gridSearchCV.cv_results_).shape[0] \n",
    "log_average_time = np.mean(mean_fit_time + mean_score_time) * n_splits * n_iter\n",
    "\n",
    "print(\"Average running time: {:.2f}\".format(log_average_time))"
   ]
  },
  {
   "cell_type": "markdown",
   "id": "acee09b8",
   "metadata": {},
   "source": [
    "### KNN"
   ]
  },
  {
   "cell_type": "markdown",
   "id": "9a355461",
   "metadata": {},
   "source": [
    "K Nearest Neighbour (kNN) is a supervised learning algorithm that is widely used for\n",
    "classification problems. The accuracy of the prediction results using the kNN algorithm with k = 3 initially produced\n",
    "84%."
   ]
  },
  {
   "cell_type": "code",
   "execution_count": 20,
   "id": "b73ed1cb",
   "metadata": {},
   "outputs": [
    {
     "name": "stdout",
     "output_type": "stream",
     "text": [
      "Accuracy:  84.06666666666666\n"
     ]
    }
   ],
   "source": [
    "#KNeighborsClassifier\n",
    "\n",
    "from sklearn.neighbors import KNeighborsClassifier\n",
    "\n",
    "K_model = KNeighborsClassifier(n_neighbors=3)\n",
    "K_model.fit(X_train_pca_s, y_train)\n",
    "y_predict = K_model.predict(X_test_pca_s)\n",
    "\n",
    "print(\"Accuracy: \", K_model.score(X_test_pca_s, y_test)*100)"
   ]
  },
  {
   "cell_type": "markdown",
   "id": "9b63bdf3",
   "metadata": {},
   "source": [
    "Using GridSearchCV once again to have\n",
    "the model run several times with different parameter values to compare results, k neighbours\n",
    "1, 3, 5, 11, 15 and 18 were listed, as well as both options of the distance formula (p = 1 ,2). After running the grid search with 10 folds, the best parameters were k = 5 and the\n",
    "Euclidean distance. These settings produced a slightly higher score which rounded the\n",
    "accuracy to 85%"
   ]
  },
  {
   "cell_type": "code",
   "execution_count": 21,
   "id": "4d05cef9",
   "metadata": {},
   "outputs": [
    {
     "name": "stdout",
     "output_type": "stream",
     "text": [
      "Parameter grid:\n",
      "{'n_neighbors': [1, 3, 5, 11, 15, 18], 'p': [1, 2]}\n",
      "Fitting 10 folds for each of 12 candidates, totalling 120 fits\n",
      "Accuracy: 0.85\n",
      "The best parameters details: {'n_neighbors': 5, 'p': 2}\n",
      "The best score: 0.85\n",
      "The best estimator:\n",
      "KNeighborsClassifier()\n"
     ]
    }
   ],
   "source": [
    "#HYPERPARAMETER TUNING\n",
    "#Grid search for KNeighborsClassifier\n",
    "\n",
    "param_grid = {'n_neighbors': [1, 3, 5, 11, 15, 18],\n",
    "              'p': [1, 2]}\n",
    "print(\"Parameter grid:\\n{}\".format(param_grid))\n",
    "\n",
    "grid_search = GridSearchCV(KNeighborsClassifier(), param_grid, cv=10,\n",
    "                          return_train_score=True, n_jobs=-1, verbose=40)\n",
    "\n",
    "grid_search.fit(X_train_pca_s, y_train)\n",
    "\n",
    "knear_hyper_score = grid_search.score(X_test_pca_s, y_test)\n",
    "print(\"Accuracy: {:.2f}\".format(grid_search.score(X_test_pca_s, y_test)))\n",
    "print(\"The best parameters details: {}\".format(grid_search.best_params_))\n",
    "print(\"The best score: {:.2f}\".format(grid_search.best_score_))\n",
    "print(\"The best estimator:\\n{}\".format(grid_search.best_estimator_))"
   ]
  },
  {
   "cell_type": "code",
   "execution_count": 72,
   "id": "6aaf24ae",
   "metadata": {},
   "outputs": [
    {
     "name": "stdout",
     "output_type": "stream",
     "text": [
      "Results:\n",
      "              precision    recall  f1-score   support\n",
      "\n",
      "           0       0.75      0.86      0.80       735\n",
      "           1       0.99      0.95      0.97       748\n",
      "           2       0.71      0.76      0.73       760\n",
      "           3       0.90      0.85      0.87       770\n",
      "           4       0.74      0.78      0.76       755\n",
      "           5       0.99      0.86      0.92       758\n",
      "           6       0.65      0.56      0.60       761\n",
      "           7       0.89      0.95      0.92       781\n",
      "           8       0.98      0.96      0.97       742\n",
      "           9       0.90      0.96      0.93       690\n",
      "\n",
      "    accuracy                           0.85      7500\n",
      "   macro avg       0.85      0.85      0.85      7500\n",
      "weighted avg       0.85      0.85      0.85      7500\n",
      "\n"
     ]
    }
   ],
   "source": [
    "#Checking classification results for KNeighborsClassifier\n",
    "\n",
    "KN_predict = grid_search.predict(X_test_pca_s)\n",
    "print(\"Results:\\n{}\".format(metrics.classification_report(y_test, KN_predict)))"
   ]
  },
  {
   "cell_type": "code",
   "execution_count": 52,
   "id": "ab0ade5f",
   "metadata": {},
   "outputs": [
    {
     "data": {
      "image/png": "[encoded data removed]",
      "text/plain": [
       "<Figure size 576x576 with 1 Axes>"
      ]
     },
     "metadata": {
      "needs_background": "light"
     },
     "output_type": "display_data"
    }
   ],
   "source": [
    "#Visualisation of the accuracy of the KNeighborsClassifier tuned model\n",
    "KN_predict = grid_search.predict(X_test_pca_s)\n",
    "\n",
    "visualisation = pd.crosstab(y_test, KN_predict, \n",
    "                               rownames=['Real labels'], colnames=['Predicted labels'])\n",
    "plot = plt.figure(figsize=(8,8));\n",
    "plot = sns.heatmap(visualisation, annot=True, fmt=\"d\", cbar=False)"
   ]
  },
  {
   "cell_type": "code",
   "execution_count": 57,
   "id": "b5382914",
   "metadata": {},
   "outputs": [
    {
     "name": "stdout",
     "output_type": "stream",
     "text": [
      "Average running time for Nearest Neighbour gridsearch: 1360.23\n"
     ]
    }
   ],
   "source": [
    "#Calculating average time for Nearest Neighbour gridsearch\n",
    "\n",
    "mean_fit_time = grid_search.cv_results_['mean_fit_time']\n",
    "mean_score_time= grid_search.cv_results_['mean_score_time']\n",
    "n_splits  = grid_search.n_splits_ \n",
    "n_iter = pd.DataFrame(grid_search.cv_results_).shape[0] \n",
    "average_time = np.mean(mean_fit_time + mean_score_time) * n_splits * n_iter\n",
    "\n",
    "print(\"Average running time Nearest Neighbour gridsearch: {:.2f}\".format(average_time))"
   ]
  },
  {
   "cell_type": "markdown",
   "id": "fd45dd2d",
   "metadata": {},
   "source": [
    "### Bagging Classifier (Ensemble)"
   ]
  },
  {
   "cell_type": "markdown",
   "id": "22d714a7",
   "metadata": {},
   "source": [
    "Bagging classifier was used in order to combine multiple models and provide an improved\n",
    "accuracy result. However, after testing the tuned\n",
    "Support Vector Machine, with different numbers of random estate and estimators as a large\n",
    "number of estimators will probably provide better results but will take longer to run, the SVM\n",
    "model provided the best performance with an accuracy of 89% on the training data and a\n",
    "score of 90.05%"
   ]
  },
  {
   "cell_type": "code",
   "execution_count": 43,
   "id": "da87a188",
   "metadata": {},
   "outputs": [
    {
     "name": "stdout",
     "output_type": "stream",
     "text": [
      "SVM accuracy: 0.887\n"
     ]
    }
   ],
   "source": [
    "# DEFINING MODEL FOR ESSEMBLE\n",
    "#SVM with grid search best parameters\n",
    "\n",
    "rbf_svm = SVC(kernel=\"rbf\", gamma=0.01, C = 10)\n",
    "rbf_svm.fit(X_train_pca_s, y_train)\n",
    "y_pred = rbf_svm.predict(X_test_pca_s)\n",
    "print(\"SVM accuracy: {:.3f}\".format(accuracy_score(y_test, y_pred)))"
   ]
  },
  {
   "cell_type": "code",
   "execution_count": 29,
   "id": "a31ea469",
   "metadata": {},
   "outputs": [
    {
     "name": "stdout",
     "output_type": "stream",
     "text": [
      "Bagging accuracy:\n",
      "0.8889333333333334\n"
     ]
    }
   ],
   "source": [
    "#ESSEMBLE METHOD\n",
    "\n",
    "# Bagging with SVM model, using the best parameters of SVM\n",
    "\n",
    "from sklearn.ensemble import BaggingClassifier\n",
    "\n",
    "bagging = BaggingClassifier(base_estimator = rbf_svm, n_estimators=150,\n",
    "bootstrap=True, random_state=5003, n_jobs=-1)\n",
    "bagging.fit(X_train_pca_s, y_train)\n",
    "\n",
    "y_predict = bagging.predict(X_test_pca_s)\n",
    "\n",
    "from sklearn.metrics import accuracy_score\n",
    "\n",
    "print(\"Bagging accuracy:\")\n",
    "print(accuracy_score(y_test, y_predict))"
   ]
  },
  {
   "cell_type": "code",
   "execution_count": null,
   "id": "e17785d9",
   "metadata": {},
   "outputs": [],
   "source": [
    "from sklearn.svm import SVC\n",
    "grid_svm = OneVsRestClassifier(SVC(kernel='rbf', probability=True, C=10, gamma=0.01, \n",
    "                              class_weight='balanced'))\n",
    "\n",
    "from sklearn.ensemble import BaggingClassifier\n",
    "classifier = OneVsRestClassifier(BaggingClassifier(grid_svm, n_estimators=131, \n",
    "                                            bootstrap=True, n_jobs=-1, random_state=5003))\n",
    "classifier.fit(X_train_pca_s, y_train)\n",
    "pred = classifier.predict(X_test_pca_s)\n",
    "\n",
    "from sklearn.metrics import accuracy_score\n",
    "\n",
    "print(\"Bagging accuracy:\")\n",
    "print(accuracy_score(y_test, pred))"
   ]
  },
  {
   "cell_type": "code",
   "execution_count": 30,
   "id": "5bfaf4bc",
   "metadata": {},
   "outputs": [],
   "source": [
    "#PREDICITON IN NEW DATA SET\n",
    "\n",
    "#Predicting in the new provided test data\n",
    "y_predict = bagging.predict(X_test_output_pca)"
   ]
  },
  {
   "cell_type": "code",
   "execution_count": 31,
   "id": "3e842fbf",
   "metadata": {},
   "outputs": [],
   "source": [
    "# Saving the predicted labels\n",
    "\n",
    "output_df = pd.DataFrame(y_predict, columns = ['label'])\n",
    "output_df.to_csv('C:/Users/ericp/OneDrive/Área de Trabalho/Machine Learning and Data Mining/Output/test_outputt.csv', \n",
    "                 sep=\",\", float_format='%d', index_label=\"id\")"
   ]
  },
  {
   "cell_type": "code",
   "execution_count": 60,
   "id": "e472aaa0",
   "metadata": {},
   "outputs": [
    {
     "name": "stdout",
     "output_type": "stream",
     "text": [
      "╒══════════════════════╤═════════════════════════════════╤════════════════╕\n",
      "│ Model                │   Accuracy with Hyperparameters │   Average Time │\n",
      "╞══════════════════════╪═════════════════════════════════╪════════════════╡\n",
      "│ SVM Model            │                         88.68   │       54677.6  │\n",
      "├──────────────────────┼─────────────────────────────────┼────────────────┤\n",
      "│ KNeighborsClassifier │                         84.6267 │        1360.23 │\n",
      "├──────────────────────┼─────────────────────────────────┼────────────────┤\n",
      "│ Logistic Regression  │                         84.4133 │        3581.65 │\n",
      "╘══════════════════════╧═════════════════════════════════╧════════════════╛\n"
     ]
    }
   ],
   "source": [
    "#COMPARING RESULTS\n",
    "\n",
    "#Table with the tuned model results\n",
    "from tabulate import tabulate\n",
    "\n",
    "table = [[\"Model\", \"Accuracy with Hyperparameters\", \"Average Time\"], \n",
    "         [\"SVM Model\",svm_hyper_score*100, svm_average_time], \n",
    "         [\"KNeighborsClassifier\",knear_hyper_score*100, average_time],  \n",
    "         [\"Logistic Regression\",log_hyper_score*100, log_average_time]]\n",
    "print(tabulate(table, headers=\"firstrow\", tablefmt=\"fancy_grid\"))"
   ]
  },
  {
   "attachments": {
    "image.png": {
     "image/png": "[encoded data removed]"
    }
   },
   "cell_type": "markdown",
   "id": "933c9335",
   "metadata": {},
   "source": [
    "The SVM algorithm proves to be the best model for the most accurately predicted labels by\n",
    "4%. Upon further inspection of the lowest and highest scores across the models reveals that\n",
    "label 6 which represents the ‘Shirt’ category has been the most difficult to classify correctly\n",
    "as it is commonly mistaken with Labels 0, 2 and 4; top, pullover and coat respectively (Refer\n",
    "to Appendix C4: Confusion Matrix (kNN)). This is to be expected as these categories all\n",
    "represent a similar type of clothing item covering the same section of the body and therefore\n",
    "depicting a similar image. It is evident that the SVM model has a higher precision and recall\n",
    "of predicting Label 6 which contributes to the overall higher accuracy rate.\n",
    "\n",
    "![image.png](attachment:image.png)"
   ]
  },
  {
   "cell_type": "markdown",
   "id": "d8d1d742",
   "metadata": {},
   "source": [
    "# Conclusion "
   ]
  },
  {
   "cell_type": "markdown",
   "id": "19d7ea56",
   "metadata": {},
   "source": [
    "A review of the results post grid search from the three individual models used to predict the\n",
    "clothing categories reveals that the Logistic Regression model and the kNN model both\n",
    "performed at 85% accuracy, thereby making the clear winner to be the SVM model which\n",
    "produced an accuracy score of 89%. The ensemble method Bagging Classifier was used to\n",
    "improve the accuracy of the best model, however this was only a slight improvement (< 1%).\n",
    "To improve the accuracy of the models, further enhancements could be made to identify\n",
    "ways to isolate the categories that were most often incorrectly classified: top, pullover, coat\n",
    "and shirt. Given the similarities amongst these clothing items it may be hard to classify these\n",
    "correctly, however selecting a model and fine tuning it to best classify these similar\n",
    "categories would increase the overall accuracy scores.\n",
    "Therefore, the Bagging Classifier with SVM as the base model with C = 10,\n",
    "gamma = 0.01 and kernel = rbf would be the best suited algorithm to produce the highest\n",
    "score of accuracy for the Fashion-MNIST classification task."
   ]
  },
  {
   "cell_type": "code",
   "execution_count": null,
   "id": "8f64b537",
   "metadata": {},
   "outputs": [],
   "source": []
  }
 ],
 "metadata": {
  "kernelspec": {
   "display_name": "Python 3",
   "language": "python",
   "name": "python3"
  },
  "language_info": {
   "codemirror_mode": {
    "name": "ipython",
    "version": 3
   },
   "file_extension": ".py",
   "mimetype": "text/x-python",
   "name": "python",
   "nbconvert_exporter": "python",
   "pygments_lexer": "ipython3",
   "version": "3.8.8"
  }
 },
 "nbformat": 4,
 "nbformat_minor": 5
}
